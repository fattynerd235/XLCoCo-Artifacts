{
 "cells": [
  {
   "cell_type": "markdown",
   "id": "23c99a14",
   "metadata": {},
   "source": [
    "### Java --> CSharp Clone Detection and Code Search Analysis"
   ]
  },
  {
   "cell_type": "code",
   "execution_count": null,
   "id": "1a391e8d",
   "metadata": {},
   "outputs": [],
   "source": [
    "import pandas as pd\n",
    "import numpy as np"
   ]
  },
  {
   "cell_type": "markdown",
   "id": "a77d3903",
   "metadata": {},
   "source": [
    "##### Data Configure"
   ]
  },
  {
   "cell_type": "code",
   "execution_count": null,
   "id": "2e159424",
   "metadata": {},
   "outputs": [],
   "source": [
    "true_filename = \"JavaCSharpFeatures_baselines.csv\"\n",
    "false_filename = \"JavaCSharpNonCloneFeatures_baselines.csv\""
   ]
  },
  {
   "cell_type": "markdown",
   "id": "754c8d51",
   "metadata": {},
   "source": [
    "##### Precision Analysis"
   ]
  },
  {
   "cell_type": "code",
   "execution_count": null,
   "id": "14589a63",
   "metadata": {},
   "outputs": [],
   "source": [
    "def compute_precision(retrieved):\n",
    "    if len(retrieved) == 0:\n",
    "        return 0.0\n",
    "    return retrieved['label'].sum() / len(retrieved)"
   ]
  },
  {
   "cell_type": "markdown",
   "id": "2bf2bd07",
   "metadata": {},
   "source": [
    "##### Recall Analysis"
   ]
  },
  {
   "cell_type": "code",
   "execution_count": null,
   "id": "57e25710",
   "metadata": {},
   "outputs": [],
   "source": [
    "def compute_recall(group, threshold):\n",
    "    total_positives = group[\"label\"].sum()\n",
    "    if total_positives == 0:\n",
    "        return 0.0\n",
    "    true_positives = group[group[\"similarity\"] >= threshold][\"label\"].sum()\n",
    "    return true_positives / total_positives"
   ]
  },
  {
   "cell_type": "markdown",
   "id": "adb66652",
   "metadata": {},
   "source": [
    "##### F-1 Score Analysis"
   ]
  },
  {
   "cell_type": "code",
   "execution_count": null,
   "id": "e929454d",
   "metadata": {},
   "outputs": [],
   "source": [
    "def compute_f1(precision, recall):\n",
    "    if precision + recall == 0:\n",
    "        return 0.0\n",
    "    return 2 * precision * recall / (precision + recall)"
   ]
  },
  {
   "cell_type": "markdown",
   "id": "2a3d3193",
   "metadata": {},
   "source": [
    "#### MAP (Mean Average Precision)"
   ]
  },
  {
   "cell_type": "code",
   "execution_count": null,
   "id": "c8a176db",
   "metadata": {},
   "outputs": [],
   "source": [
    "def compute_map(group):\n",
    "    ap_sum = 0.0\n",
    "    correct = 0\n",
    "    total_positives = group[\"label\"].sum()\n",
    "    if total_positives == 0:\n",
    "        return 0.0\n",
    "\n",
    "    for idx, row in group.iterrows():\n",
    "        if row[\"label\"] == 1:\n",
    "            correct += 1\n",
    "            ap_sum += correct / (idx + 1)\n",
    "    return ap_sum / total_positives"
   ]
  },
  {
   "cell_type": "markdown",
   "id": "19d3691d",
   "metadata": {},
   "source": [
    "##### MRR (Mean Reciprocal Ranking)"
   ]
  },
  {
   "cell_type": "code",
   "execution_count": null,
   "id": "bdd5cae6",
   "metadata": {},
   "outputs": [],
   "source": [
    "def compute_mrr(group):\n",
    "    for idx, row in group.iterrows():\n",
    "        if row[\"label\"] == 1:\n",
    "            return 1 / (idx + 1)\n",
    "    return 0.0"
   ]
  },
  {
   "cell_type": "markdown",
   "id": "810851fa",
   "metadata": {},
   "source": [
    "##### Top@K Precision"
   ]
  },
  {
   "cell_type": "code",
   "execution_count": 8,
   "id": "11b8a32a",
   "metadata": {},
   "outputs": [],
   "source": [
    "def compute_top_k_precision(group, k):\n",
    "    top_k = group.head(k)\n",
    "    return top_k['label'].sum() / k if len(top_k) >= k else np.nan"
   ]
  },
  {
   "cell_type": "markdown",
   "id": "5ebbe932",
   "metadata": {},
   "source": [
    "##### Evaluating Ranking Metrics"
   ]
  },
  {
   "cell_type": "code",
   "execution_count": 9,
   "id": "d33bcfd4",
   "metadata": {},
   "outputs": [],
   "source": [
    "def evaluate_ranking_metrics(true_df, false_df, model_name=\"final_similarity\", threshold=0.5):\n",
    "    true_df = true_df.copy()\n",
    "    true_df[\"label\"] = 1\n",
    "    true_df[\"origin\"] = \"true\"\n",
    "\n",
    "    false_df = false_df.copy()\n",
    "    false_df[\"label\"] = 0\n",
    "    false_df[\"origin\"] = \"false\"\n",
    "\n",
    "    # Combine both DataFrames\n",
    "    df = pd.concat([true_df, false_df], ignore_index=True)\n",
    "\n",
    "    # Normalize column names and rename target column\n",
    "    df.columns = [col.lower() for col in df.columns]\n",
    "    df = df.rename(columns={\"src_filename\": \"src_file\", model_name: \"similarity\"})\n",
    "\n",
    "    # Keep only src_files that have at least one true (label == 1) sample\n",
    "    true_src_files = df[df[\"origin\"] == \"true\"][\"src_file\"].unique()\n",
    "    df = df[df[\"src_file\"].isin(true_src_files)].copy()\n",
    "\n",
    "    results = []\n",
    "\n",
    "    for src_file, group in df.groupby(\"src_file\"):\n",
    "        group = group.sort_values(by=\"similarity\", ascending=False).reset_index(drop=True)\n",
    "        retrieved = group[group[\"similarity\"] >= threshold]\n",
    "\n",
    "        precision = compute_precision(retrieved)\n",
    "        recall = compute_recall(group, threshold)\n",
    "        f1 = compute_f1(precision, recall)\n",
    "        map_score = compute_map(group)\n",
    "        mrr = compute_mrr(group)\n",
    "\n",
    "        # Top@K Precision\n",
    "        top1 = compute_top_k_precision(group, 1)\n",
    "        top2 = compute_top_k_precision(group, 2)\n",
    "        top3 = compute_top_k_precision(group, 3)\n",
    "\n",
    "        results.append({\n",
    "            \"src_file\": src_file,\n",
    "            \"total\": len(group),\n",
    "            \"positives\": group['label'].sum(),\n",
    "            \"retrieved\": len(retrieved),\n",
    "            \"true_positives\": retrieved['label'].sum(),\n",
    "            \"precision\": precision,\n",
    "            \"recall\": recall,\n",
    "            \"f1_score\": f1,\n",
    "            \"map\": map_score,\n",
    "            \"mrr\": mrr,\n",
    "            \"top@1\": top1,\n",
    "            \"top@2\": top2,\n",
    "            \"top@3\": top3\n",
    "        })\n",
    "\n",
    "    return pd.DataFrame(results)\n"
   ]
  },
  {
   "cell_type": "markdown",
   "id": "d357a9e9",
   "metadata": {},
   "source": [
    "##### Summarizing the Group analysis result"
   ]
  },
  {
   "cell_type": "code",
   "execution_count": 10,
   "id": "1a848fd5",
   "metadata": {},
   "outputs": [],
   "source": [
    "def summarize_metrics(per_group_df):\n",
    "    macro_precision = per_group_df[\"precision\"].mean()\n",
    "    macro_recall = per_group_df[\"recall\"].mean()\n",
    "    macro_f1 = per_group_df[\"f1_score\"].mean()\n",
    "\n",
    "    # Micro: based on sum of TP, FP, FN\n",
    "    total_tp = per_group_df[\"true_positives\"].sum()\n",
    "    total_retrieved = per_group_df[\"retrieved\"].sum()\n",
    "    total_positives = per_group_df[\"positives\"].sum()\n",
    "\n",
    "    micro_precision = total_tp / total_retrieved if total_retrieved else 0\n",
    "    micro_recall = total_tp / total_positives if total_positives else 0\n",
    "    micro_f1 = (\n",
    "        2 * micro_precision * micro_recall / (micro_precision + micro_recall)\n",
    "        if (micro_precision + micro_recall) > 0\n",
    "        else 0\n",
    "    )\n",
    "\n",
    "    summary = {\n",
    "        \"macro_precision\": macro_precision,\n",
    "        \"macro_recall\": macro_recall,\n",
    "        \"macro_f1\": macro_f1,\n",
    "        \"micro_precision\": micro_precision,\n",
    "        \"micro_recall\": micro_recall,\n",
    "        \"micro_f1\": micro_f1,\n",
    "        \"mean_map\": per_group_df[\"map\"].mean(),\n",
    "        \"mean_mrr\": per_group_df[\"mrr\"].mean(),\n",
    "        \"mean_top@1\": per_group_df[\"top@1\"].mean(),\n",
    "        \"mean_top@2\": per_group_df[\"top@2\"].mean(),\n",
    "        \"mean_top@3\": per_group_df[\"top@3\"].mean(),\n",
    "    }\n",
    "\n",
    "    return pd.DataFrame([summary])\n"
   ]
  },
  {
   "cell_type": "markdown",
   "id": "2d86acd5",
   "metadata": {},
   "source": [
    "### GPT Direct Prompt based Cross-Language Clone detection and Code search ranking"
   ]
  },
  {
   "cell_type": "code",
   "execution_count": null,
   "id": "8e16711a",
   "metadata": {},
   "outputs": [
    {
     "ename": "FileNotFoundError",
     "evalue": "[Errno 2] No such file or directory: 'JavaCSharpNonCloneFeatures_baselines.csv'",
     "output_type": "error",
     "traceback": [
      "\u001b[1;31m---------------------------------------------------------------------------\u001b[0m",
      "\u001b[1;31mFileNotFoundError\u001b[0m                         Traceback (most recent call last)",
      "Cell \u001b[1;32mIn[22], line 2\u001b[0m\n\u001b[0;32m      1\u001b[0m true_df \u001b[38;5;241m=\u001b[39m pd\u001b[38;5;241m.\u001b[39mread_csv(true_filename, delimiter \u001b[38;5;241m=\u001b[39m \u001b[38;5;124m'\u001b[39m\u001b[38;5;124m,\u001b[39m\u001b[38;5;124m'\u001b[39m)\n\u001b[1;32m----> 2\u001b[0m false_df \u001b[38;5;241m=\u001b[39m \u001b[43mpd\u001b[49m\u001b[38;5;241;43m.\u001b[39;49m\u001b[43mread_csv\u001b[49m\u001b[43m(\u001b[49m\u001b[43mfalse_filename\u001b[49m\u001b[43m,\u001b[49m\u001b[43m \u001b[49m\u001b[43mdelimiter\u001b[49m\u001b[43m \u001b[49m\u001b[38;5;241;43m=\u001b[39;49m\u001b[43m \u001b[49m\u001b[38;5;124;43m'\u001b[39;49m\u001b[38;5;124;43m,\u001b[39;49m\u001b[38;5;124;43m'\u001b[39;49m\u001b[43m)\u001b[49m\n\u001b[0;32m      3\u001b[0m model_name \u001b[38;5;241m=\u001b[39m \u001b[38;5;124m\"\u001b[39m\u001b[38;5;124mgpt_simple_similarity\u001b[39m\u001b[38;5;124m\"\u001b[39m\n",
      "File \u001b[1;32mc:\\ProgramData\\miniconda3\\envs\\myenv\\lib\\site-packages\\pandas\\io\\parsers\\readers.py:1026\u001b[0m, in \u001b[0;36mread_csv\u001b[1;34m(filepath_or_buffer, sep, delimiter, header, names, index_col, usecols, dtype, engine, converters, true_values, false_values, skipinitialspace, skiprows, skipfooter, nrows, na_values, keep_default_na, na_filter, verbose, skip_blank_lines, parse_dates, infer_datetime_format, keep_date_col, date_parser, date_format, dayfirst, cache_dates, iterator, chunksize, compression, thousands, decimal, lineterminator, quotechar, quoting, doublequote, escapechar, comment, encoding, encoding_errors, dialect, on_bad_lines, delim_whitespace, low_memory, memory_map, float_precision, storage_options, dtype_backend)\u001b[0m\n\u001b[0;32m   1013\u001b[0m kwds_defaults \u001b[38;5;241m=\u001b[39m _refine_defaults_read(\n\u001b[0;32m   1014\u001b[0m     dialect,\n\u001b[0;32m   1015\u001b[0m     delimiter,\n\u001b[1;32m   (...)\u001b[0m\n\u001b[0;32m   1022\u001b[0m     dtype_backend\u001b[38;5;241m=\u001b[39mdtype_backend,\n\u001b[0;32m   1023\u001b[0m )\n\u001b[0;32m   1024\u001b[0m kwds\u001b[38;5;241m.\u001b[39mupdate(kwds_defaults)\n\u001b[1;32m-> 1026\u001b[0m \u001b[38;5;28;01mreturn\u001b[39;00m \u001b[43m_read\u001b[49m\u001b[43m(\u001b[49m\u001b[43mfilepath_or_buffer\u001b[49m\u001b[43m,\u001b[49m\u001b[43m \u001b[49m\u001b[43mkwds\u001b[49m\u001b[43m)\u001b[49m\n",
      "File \u001b[1;32mc:\\ProgramData\\miniconda3\\envs\\myenv\\lib\\site-packages\\pandas\\io\\parsers\\readers.py:620\u001b[0m, in \u001b[0;36m_read\u001b[1;34m(filepath_or_buffer, kwds)\u001b[0m\n\u001b[0;32m    617\u001b[0m _validate_names(kwds\u001b[38;5;241m.\u001b[39mget(\u001b[38;5;124m\"\u001b[39m\u001b[38;5;124mnames\u001b[39m\u001b[38;5;124m\"\u001b[39m, \u001b[38;5;28;01mNone\u001b[39;00m))\n\u001b[0;32m    619\u001b[0m \u001b[38;5;66;03m# Create the parser.\u001b[39;00m\n\u001b[1;32m--> 620\u001b[0m parser \u001b[38;5;241m=\u001b[39m TextFileReader(filepath_or_buffer, \u001b[38;5;241m*\u001b[39m\u001b[38;5;241m*\u001b[39mkwds)\n\u001b[0;32m    622\u001b[0m \u001b[38;5;28;01mif\u001b[39;00m chunksize \u001b[38;5;129;01mor\u001b[39;00m iterator:\n\u001b[0;32m    623\u001b[0m     \u001b[38;5;28;01mreturn\u001b[39;00m parser\n",
      "File \u001b[1;32mc:\\ProgramData\\miniconda3\\envs\\myenv\\lib\\site-packages\\pandas\\io\\parsers\\readers.py:1620\u001b[0m, in \u001b[0;36mTextFileReader.__init__\u001b[1;34m(self, f, engine, **kwds)\u001b[0m\n\u001b[0;32m   1617\u001b[0m     \u001b[38;5;28mself\u001b[39m\u001b[38;5;241m.\u001b[39moptions[\u001b[38;5;124m\"\u001b[39m\u001b[38;5;124mhas_index_names\u001b[39m\u001b[38;5;124m\"\u001b[39m] \u001b[38;5;241m=\u001b[39m kwds[\u001b[38;5;124m\"\u001b[39m\u001b[38;5;124mhas_index_names\u001b[39m\u001b[38;5;124m\"\u001b[39m]\n\u001b[0;32m   1619\u001b[0m \u001b[38;5;28mself\u001b[39m\u001b[38;5;241m.\u001b[39mhandles: IOHandles \u001b[38;5;241m|\u001b[39m \u001b[38;5;28;01mNone\u001b[39;00m \u001b[38;5;241m=\u001b[39m \u001b[38;5;28;01mNone\u001b[39;00m\n\u001b[1;32m-> 1620\u001b[0m \u001b[38;5;28mself\u001b[39m\u001b[38;5;241m.\u001b[39m_engine \u001b[38;5;241m=\u001b[39m \u001b[38;5;28;43mself\u001b[39;49m\u001b[38;5;241;43m.\u001b[39;49m\u001b[43m_make_engine\u001b[49m\u001b[43m(\u001b[49m\u001b[43mf\u001b[49m\u001b[43m,\u001b[49m\u001b[43m \u001b[49m\u001b[38;5;28;43mself\u001b[39;49m\u001b[38;5;241;43m.\u001b[39;49m\u001b[43mengine\u001b[49m\u001b[43m)\u001b[49m\n",
      "File \u001b[1;32mc:\\ProgramData\\miniconda3\\envs\\myenv\\lib\\site-packages\\pandas\\io\\parsers\\readers.py:1880\u001b[0m, in \u001b[0;36mTextFileReader._make_engine\u001b[1;34m(self, f, engine)\u001b[0m\n\u001b[0;32m   1878\u001b[0m     \u001b[38;5;28;01mif\u001b[39;00m \u001b[38;5;124m\"\u001b[39m\u001b[38;5;124mb\u001b[39m\u001b[38;5;124m\"\u001b[39m \u001b[38;5;129;01mnot\u001b[39;00m \u001b[38;5;129;01min\u001b[39;00m mode:\n\u001b[0;32m   1879\u001b[0m         mode \u001b[38;5;241m+\u001b[39m\u001b[38;5;241m=\u001b[39m \u001b[38;5;124m\"\u001b[39m\u001b[38;5;124mb\u001b[39m\u001b[38;5;124m\"\u001b[39m\n\u001b[1;32m-> 1880\u001b[0m \u001b[38;5;28mself\u001b[39m\u001b[38;5;241m.\u001b[39mhandles \u001b[38;5;241m=\u001b[39m \u001b[43mget_handle\u001b[49m\u001b[43m(\u001b[49m\n\u001b[0;32m   1881\u001b[0m \u001b[43m    \u001b[49m\u001b[43mf\u001b[49m\u001b[43m,\u001b[49m\n\u001b[0;32m   1882\u001b[0m \u001b[43m    \u001b[49m\u001b[43mmode\u001b[49m\u001b[43m,\u001b[49m\n\u001b[0;32m   1883\u001b[0m \u001b[43m    \u001b[49m\u001b[43mencoding\u001b[49m\u001b[38;5;241;43m=\u001b[39;49m\u001b[38;5;28;43mself\u001b[39;49m\u001b[38;5;241;43m.\u001b[39;49m\u001b[43moptions\u001b[49m\u001b[38;5;241;43m.\u001b[39;49m\u001b[43mget\u001b[49m\u001b[43m(\u001b[49m\u001b[38;5;124;43m\"\u001b[39;49m\u001b[38;5;124;43mencoding\u001b[39;49m\u001b[38;5;124;43m\"\u001b[39;49m\u001b[43m,\u001b[49m\u001b[43m \u001b[49m\u001b[38;5;28;43;01mNone\u001b[39;49;00m\u001b[43m)\u001b[49m\u001b[43m,\u001b[49m\n\u001b[0;32m   1884\u001b[0m \u001b[43m    \u001b[49m\u001b[43mcompression\u001b[49m\u001b[38;5;241;43m=\u001b[39;49m\u001b[38;5;28;43mself\u001b[39;49m\u001b[38;5;241;43m.\u001b[39;49m\u001b[43moptions\u001b[49m\u001b[38;5;241;43m.\u001b[39;49m\u001b[43mget\u001b[49m\u001b[43m(\u001b[49m\u001b[38;5;124;43m\"\u001b[39;49m\u001b[38;5;124;43mcompression\u001b[39;49m\u001b[38;5;124;43m\"\u001b[39;49m\u001b[43m,\u001b[49m\u001b[43m \u001b[49m\u001b[38;5;28;43;01mNone\u001b[39;49;00m\u001b[43m)\u001b[49m\u001b[43m,\u001b[49m\n\u001b[0;32m   1885\u001b[0m \u001b[43m    \u001b[49m\u001b[43mmemory_map\u001b[49m\u001b[38;5;241;43m=\u001b[39;49m\u001b[38;5;28;43mself\u001b[39;49m\u001b[38;5;241;43m.\u001b[39;49m\u001b[43moptions\u001b[49m\u001b[38;5;241;43m.\u001b[39;49m\u001b[43mget\u001b[49m\u001b[43m(\u001b[49m\u001b[38;5;124;43m\"\u001b[39;49m\u001b[38;5;124;43mmemory_map\u001b[39;49m\u001b[38;5;124;43m\"\u001b[39;49m\u001b[43m,\u001b[49m\u001b[43m \u001b[49m\u001b[38;5;28;43;01mFalse\u001b[39;49;00m\u001b[43m)\u001b[49m\u001b[43m,\u001b[49m\n\u001b[0;32m   1886\u001b[0m \u001b[43m    \u001b[49m\u001b[43mis_text\u001b[49m\u001b[38;5;241;43m=\u001b[39;49m\u001b[43mis_text\u001b[49m\u001b[43m,\u001b[49m\n\u001b[0;32m   1887\u001b[0m \u001b[43m    \u001b[49m\u001b[43merrors\u001b[49m\u001b[38;5;241;43m=\u001b[39;49m\u001b[38;5;28;43mself\u001b[39;49m\u001b[38;5;241;43m.\u001b[39;49m\u001b[43moptions\u001b[49m\u001b[38;5;241;43m.\u001b[39;49m\u001b[43mget\u001b[49m\u001b[43m(\u001b[49m\u001b[38;5;124;43m\"\u001b[39;49m\u001b[38;5;124;43mencoding_errors\u001b[39;49m\u001b[38;5;124;43m\"\u001b[39;49m\u001b[43m,\u001b[49m\u001b[43m \u001b[49m\u001b[38;5;124;43m\"\u001b[39;49m\u001b[38;5;124;43mstrict\u001b[39;49m\u001b[38;5;124;43m\"\u001b[39;49m\u001b[43m)\u001b[49m\u001b[43m,\u001b[49m\n\u001b[0;32m   1888\u001b[0m \u001b[43m    \u001b[49m\u001b[43mstorage_options\u001b[49m\u001b[38;5;241;43m=\u001b[39;49m\u001b[38;5;28;43mself\u001b[39;49m\u001b[38;5;241;43m.\u001b[39;49m\u001b[43moptions\u001b[49m\u001b[38;5;241;43m.\u001b[39;49m\u001b[43mget\u001b[49m\u001b[43m(\u001b[49m\u001b[38;5;124;43m\"\u001b[39;49m\u001b[38;5;124;43mstorage_options\u001b[39;49m\u001b[38;5;124;43m\"\u001b[39;49m\u001b[43m,\u001b[49m\u001b[43m \u001b[49m\u001b[38;5;28;43;01mNone\u001b[39;49;00m\u001b[43m)\u001b[49m\u001b[43m,\u001b[49m\n\u001b[0;32m   1889\u001b[0m \u001b[43m\u001b[49m\u001b[43m)\u001b[49m\n\u001b[0;32m   1890\u001b[0m \u001b[38;5;28;01massert\u001b[39;00m \u001b[38;5;28mself\u001b[39m\u001b[38;5;241m.\u001b[39mhandles \u001b[38;5;129;01mis\u001b[39;00m \u001b[38;5;129;01mnot\u001b[39;00m \u001b[38;5;28;01mNone\u001b[39;00m\n\u001b[0;32m   1891\u001b[0m f \u001b[38;5;241m=\u001b[39m \u001b[38;5;28mself\u001b[39m\u001b[38;5;241m.\u001b[39mhandles\u001b[38;5;241m.\u001b[39mhandle\n",
      "File \u001b[1;32mc:\\ProgramData\\miniconda3\\envs\\myenv\\lib\\site-packages\\pandas\\io\\common.py:873\u001b[0m, in \u001b[0;36mget_handle\u001b[1;34m(path_or_buf, mode, encoding, compression, memory_map, is_text, errors, storage_options)\u001b[0m\n\u001b[0;32m    868\u001b[0m \u001b[38;5;28;01melif\u001b[39;00m \u001b[38;5;28misinstance\u001b[39m(handle, \u001b[38;5;28mstr\u001b[39m):\n\u001b[0;32m    869\u001b[0m     \u001b[38;5;66;03m# Check whether the filename is to be opened in binary mode.\u001b[39;00m\n\u001b[0;32m    870\u001b[0m     \u001b[38;5;66;03m# Binary mode does not support 'encoding' and 'newline'.\u001b[39;00m\n\u001b[0;32m    871\u001b[0m     \u001b[38;5;28;01mif\u001b[39;00m ioargs\u001b[38;5;241m.\u001b[39mencoding \u001b[38;5;129;01mand\u001b[39;00m \u001b[38;5;124m\"\u001b[39m\u001b[38;5;124mb\u001b[39m\u001b[38;5;124m\"\u001b[39m \u001b[38;5;129;01mnot\u001b[39;00m \u001b[38;5;129;01min\u001b[39;00m ioargs\u001b[38;5;241m.\u001b[39mmode:\n\u001b[0;32m    872\u001b[0m         \u001b[38;5;66;03m# Encoding\u001b[39;00m\n\u001b[1;32m--> 873\u001b[0m         handle \u001b[38;5;241m=\u001b[39m \u001b[38;5;28;43mopen\u001b[39;49m\u001b[43m(\u001b[49m\n\u001b[0;32m    874\u001b[0m \u001b[43m            \u001b[49m\u001b[43mhandle\u001b[49m\u001b[43m,\u001b[49m\n\u001b[0;32m    875\u001b[0m \u001b[43m            \u001b[49m\u001b[43mioargs\u001b[49m\u001b[38;5;241;43m.\u001b[39;49m\u001b[43mmode\u001b[49m\u001b[43m,\u001b[49m\n\u001b[0;32m    876\u001b[0m \u001b[43m            \u001b[49m\u001b[43mencoding\u001b[49m\u001b[38;5;241;43m=\u001b[39;49m\u001b[43mioargs\u001b[49m\u001b[38;5;241;43m.\u001b[39;49m\u001b[43mencoding\u001b[49m\u001b[43m,\u001b[49m\n\u001b[0;32m    877\u001b[0m \u001b[43m            \u001b[49m\u001b[43merrors\u001b[49m\u001b[38;5;241;43m=\u001b[39;49m\u001b[43merrors\u001b[49m\u001b[43m,\u001b[49m\n\u001b[0;32m    878\u001b[0m \u001b[43m            \u001b[49m\u001b[43mnewline\u001b[49m\u001b[38;5;241;43m=\u001b[39;49m\u001b[38;5;124;43m\"\u001b[39;49m\u001b[38;5;124;43m\"\u001b[39;49m\u001b[43m,\u001b[49m\n\u001b[0;32m    879\u001b[0m \u001b[43m        \u001b[49m\u001b[43m)\u001b[49m\n\u001b[0;32m    880\u001b[0m     \u001b[38;5;28;01melse\u001b[39;00m:\n\u001b[0;32m    881\u001b[0m         \u001b[38;5;66;03m# Binary mode\u001b[39;00m\n\u001b[0;32m    882\u001b[0m         handle \u001b[38;5;241m=\u001b[39m \u001b[38;5;28mopen\u001b[39m(handle, ioargs\u001b[38;5;241m.\u001b[39mmode)\n",
      "\u001b[1;31mFileNotFoundError\u001b[0m: [Errno 2] No such file or directory: 'JavaCSharpNonCloneFeatures_baselines.csv'"
     ]
    }
   ],
   "source": [
    "true_df = pd.read_csv(true_filename, delimiter = ',')\n",
    "false_df = pd.read_csv(false_filename, delimiter = ',')\n",
    "model_name = \"gpt_simple_similarity\""
   ]
  },
  {
   "cell_type": "markdown",
   "id": "77bec90b",
   "metadata": {},
   "source": [
    "##### Threshold 50%"
   ]
  },
  {
   "cell_type": "code",
   "execution_count": null,
   "id": "25ad75eb",
   "metadata": {},
   "outputs": [],
   "source": [
    "group_df = evaluate_ranking_metrics(true_df=true_df, false_df=false_df, model_name=model_name, threshold=0.5)\n",
    "result_df = summarize_metrics(group_df)"
   ]
  },
  {
   "cell_type": "markdown",
   "id": "160e1495",
   "metadata": {},
   "source": [
    "###### Precision"
   ]
  },
  {
   "cell_type": "code",
   "execution_count": null,
   "id": "a2445594",
   "metadata": {},
   "outputs": [
    {
     "name": "stdout",
     "output_type": "stream",
     "text": [
      "Macro Precision 0    0.993449\n",
      "Name: macro_precision, dtype: float64\n",
      "Micro Precision 0    0.999003\n",
      "Name: micro_precision, dtype: float64\n"
     ]
    }
   ],
   "source": [
    "print(\"Macro Precision\", result_df[\"macro_precision\"])\n",
    "print(\"Micro Precision\", result_df[\"micro_precision\"])"
   ]
  },
  {
   "cell_type": "markdown",
   "id": "83264513",
   "metadata": {},
   "source": [
    "###### Recall"
   ]
  },
  {
   "cell_type": "code",
   "execution_count": null,
   "id": "5fb9d9c3",
   "metadata": {},
   "outputs": [
    {
     "name": "stdout",
     "output_type": "stream",
     "text": [
      "Macro Recall 0    0.973686\n",
      "Name: macro_recall, dtype: float64\n",
      "Micro Recall 0    0.971568\n",
      "Name: micro_recall, dtype: float64\n"
     ]
    }
   ],
   "source": [
    "print(\"Macro Recall\", result_df[\"macro_recall\"])\n",
    "print(\"Micro Recall\", result_df[\"micro_recall\"])"
   ]
  },
  {
   "cell_type": "markdown",
   "id": "297836d5",
   "metadata": {},
   "source": [
    "###### F1-Score"
   ]
  },
  {
   "cell_type": "code",
   "execution_count": null,
   "id": "7965e846",
   "metadata": {},
   "outputs": [
    {
     "name": "stdout",
     "output_type": "stream",
     "text": [
      "Macro F1:  0    0.980428\n",
      "Name: macro_f1, dtype: float64\n",
      "Micro F1:  0    0.985094\n",
      "Name: micro_f1, dtype: float64\n"
     ]
    }
   ],
   "source": [
    "print(\"Macro F1: \", result_df[\"macro_f1\"])\n",
    "print(\"Micro F1: \", result_df[\"micro_f1\"])"
   ]
  },
  {
   "cell_type": "markdown",
   "id": "7984cd85",
   "metadata": {},
   "source": [
    "###### Mean Average Precision"
   ]
  },
  {
   "cell_type": "code",
   "execution_count": null,
   "id": "1e6adda9",
   "metadata": {},
   "outputs": [
    {
     "name": "stdout",
     "output_type": "stream",
     "text": [
      "Mean Average Precision:  0    0.998958\n",
      "Name: mean_map, dtype: float64\n"
     ]
    }
   ],
   "source": [
    "print(\"Mean Average Precision: \", result_df[\"mean_map\"])"
   ]
  },
  {
   "cell_type": "markdown",
   "id": "16a6d8c3",
   "metadata": {},
   "source": [
    "###### Mean Reciprocal Ranking"
   ]
  },
  {
   "cell_type": "code",
   "execution_count": null,
   "id": "73816acd",
   "metadata": {},
   "outputs": [
    {
     "name": "stdout",
     "output_type": "stream",
     "text": [
      "Mean MRR:  0    0.999546\n",
      "Name: mean_mrr, dtype: float64\n"
     ]
    }
   ],
   "source": [
    "print(\"Mean MRR: \", result_df[\"mean_mrr\"])"
   ]
  },
  {
   "cell_type": "markdown",
   "id": "6cdf874e",
   "metadata": {},
   "source": [
    "###### top@K ranking"
   ]
  },
  {
   "cell_type": "code",
   "execution_count": null,
   "id": "ca1f0e3e",
   "metadata": {},
   "outputs": [
    {
     "name": "stdout",
     "output_type": "stream",
     "text": [
      "top 1:  0    0.999319\n",
      "Name: mean_top@1, dtype: float64\n",
      "top 2:  0    0.914931\n",
      "Name: mean_top@2, dtype: float64\n",
      "top 3:  0    0.856177\n",
      "Name: mean_top@3, dtype: float64\n"
     ]
    }
   ],
   "source": [
    "print(\"top 1: \", result_df[\"mean_top@1\"])\n",
    "print(\"top 2: \", result_df[\"mean_top@2\"])\n",
    "print(\"top 3: \", result_df[\"mean_top@3\"])"
   ]
  },
  {
   "cell_type": "markdown",
   "id": "e9e694e4",
   "metadata": {},
   "source": [
    "###### Result Evaluation"
   ]
  },
  {
   "cell_type": "code",
   "execution_count": null,
   "id": "14ae45ad",
   "metadata": {},
   "outputs": [
    {
     "name": "stdout",
     "output_type": "stream",
     "text": [
      "   macro_precision  macro_recall  macro_f1  micro_precision  micro_recall  \\\n",
      "0         0.993449      0.973686  0.980428         0.999003      0.971568   \n",
      "\n",
      "   micro_f1  mean_map  mean_mrr  mean_top@1  mean_top@2  mean_top@3  \n",
      "0  0.985094  0.998958  0.999546    0.999319    0.914931    0.856177  \n"
     ]
    }
   ],
   "source": [
    "print(result_df.head())"
   ]
  },
  {
   "cell_type": "markdown",
   "id": "51d20f32",
   "metadata": {},
   "source": [
    "###### reason of low mean_top@3"
   ]
  },
  {
   "cell_type": "code",
   "execution_count": null,
   "id": "97336a4b",
   "metadata": {},
   "outputs": [],
   "source": [
    "#def log_low_top3_cases(metrics_df, threshold=1.0):\n",
    "#    low_top3 = metrics_df[metrics_df[\"top@3\"] < threshold].copy()\n",
    "#    return low_top3.sort_values(by=\"top@3\")\n",
    "\n",
    "#low_top3_df = log_low_top3_cases(group_df, threshold=0.99)\n",
    "#low_top3_df.to_csv(\"sample.csv\")\n"
   ]
  },
  {
   "cell_type": "markdown",
   "id": "c9446c13",
   "metadata": {},
   "source": [
    "#### Threshold 65%"
   ]
  },
  {
   "cell_type": "code",
   "execution_count": null,
   "id": "725832e0",
   "metadata": {},
   "outputs": [],
   "source": [
    "group_df = evaluate_ranking_metrics(true_df=true_df, false_df=false_df, model_name=model_name, threshold=0.65)\n",
    "result_df = summarize_metrics(group_df)"
   ]
  },
  {
   "cell_type": "markdown",
   "id": "0e634633",
   "metadata": {},
   "source": [
    "###### Result evaluation"
   ]
  },
  {
   "cell_type": "code",
   "execution_count": null,
   "id": "261f8897",
   "metadata": {},
   "outputs": [
    {
     "name": "stdout",
     "output_type": "stream",
     "text": [
      "   macro_precision  macro_recall  macro_f1  micro_precision  micro_recall  \\\n",
      "0         0.988061      0.947097  0.961037         0.999612      0.942467   \n",
      "\n",
      "   micro_f1  mean_map  mean_mrr  mean_top@1  mean_top@2  mean_top@3  \n",
      "0  0.970199  0.998958  0.999546    0.999319    0.914931    0.856177  \n"
     ]
    }
   ],
   "source": [
    "print(result_df.head())"
   ]
  },
  {
   "cell_type": "markdown",
   "id": "77388453",
   "metadata": {},
   "source": [
    "### Threshold 80%"
   ]
  },
  {
   "cell_type": "code",
   "execution_count": null,
   "id": "7983ffae",
   "metadata": {},
   "outputs": [],
   "source": [
    "group_df = evaluate_ranking_metrics(true_df=true_df, false_df=false_df, model_name=model_name, threshold=0.80)\n",
    "result_df = summarize_metrics(group_df)"
   ]
  },
  {
   "cell_type": "markdown",
   "id": "94d5c7c1",
   "metadata": {},
   "source": [
    "###### Result Evaluation"
   ]
  },
  {
   "cell_type": "code",
   "execution_count": null,
   "id": "352443e7",
   "metadata": {},
   "outputs": [
    {
     "name": "stdout",
     "output_type": "stream",
     "text": [
      "   macro_precision  macro_recall  macro_f1  micro_precision  micro_recall  \\\n",
      "0         0.972746      0.900723  0.924871         0.999771      0.900757   \n",
      "\n",
      "   micro_f1  mean_map  mean_mrr  mean_top@1  mean_top@2  mean_top@3  \n",
      "0  0.947685  0.998958  0.999546    0.999319    0.914931    0.856177  \n"
     ]
    }
   ],
   "source": [
    "print(result_df.head())"
   ]
  },
  {
   "cell_type": "markdown",
   "id": "ba22d1a5",
   "metadata": {},
   "source": [
    "### GPT Reasoning based Cross_Language Clone detection and Code search ranking"
   ]
  },
  {
   "cell_type": "code",
   "execution_count": null,
   "id": "37b586c5",
   "metadata": {},
   "outputs": [],
   "source": [
    "true_df = pd.read_csv(true_filename, delimiter = ',')\n",
    "false_df = pd.read_csv(false_filename, delimiter = ',')\n",
    "model_name = \"gpt_reasoning_similarity\""
   ]
  },
  {
   "cell_type": "markdown",
   "id": "e38cc7a4",
   "metadata": {},
   "source": [
    "##### Threshold 50%"
   ]
  },
  {
   "cell_type": "code",
   "execution_count": null,
   "id": "555fdd2f",
   "metadata": {},
   "outputs": [],
   "source": [
    "group_df = evaluate_ranking_metrics(true_df=true_df, false_df=false_df, model_name=model_name, threshold=0.5)\n",
    "result_df = summarize_metrics(group_df)"
   ]
  },
  {
   "cell_type": "markdown",
   "id": "69c11284",
   "metadata": {},
   "source": [
    "###### Evalation Result"
   ]
  },
  {
   "cell_type": "code",
   "execution_count": null,
   "id": "6702157b",
   "metadata": {},
   "outputs": [
    {
     "name": "stdout",
     "output_type": "stream",
     "text": [
      "   macro_precision  macro_recall  macro_f1  micro_precision  micro_recall  \\\n",
      "0         0.989486      0.960386  0.971153         0.999387      0.959466   \n",
      "\n",
      "   micro_f1  mean_map  mean_mrr  mean_top@1  mean_top@2  mean_top@3  \n",
      "0   0.97902  0.999108  0.999524    0.999047    0.914931    0.856177  \n"
     ]
    }
   ],
   "source": [
    "print(result_df.head())"
   ]
  },
  {
   "cell_type": "markdown",
   "id": "3956af40",
   "metadata": {},
   "source": [
    "##### Threshold 65%"
   ]
  },
  {
   "cell_type": "code",
   "execution_count": null,
   "id": "f39325c0",
   "metadata": {},
   "outputs": [],
   "source": [
    "group_df = evaluate_ranking_metrics(true_df=true_df, false_df=false_df, model_name=model_name, threshold=0.65)\n",
    "result_df = summarize_metrics(group_df)"
   ]
  },
  {
   "cell_type": "markdown",
   "id": "6f44a3f2",
   "metadata": {},
   "source": [
    "###### Evaluation Result"
   ]
  },
  {
   "cell_type": "code",
   "execution_count": null,
   "id": "8f226a91",
   "metadata": {},
   "outputs": [
    {
     "name": "stdout",
     "output_type": "stream",
     "text": [
      "   macro_precision  macro_recall  macro_f1  micro_precision  micro_recall  \\\n",
      "0         0.987112      0.938248  0.956229         0.999521      0.929173   \n",
      "\n",
      "   micro_f1  mean_map  mean_mrr  mean_top@1  mean_top@2  mean_top@3  \n",
      "0  0.963064  0.999108  0.999524    0.999047    0.914931    0.856177  \n"
     ]
    }
   ],
   "source": [
    "print(result_df.head())"
   ]
  },
  {
   "cell_type": "markdown",
   "id": "21013873",
   "metadata": {},
   "source": [
    "##### Threshold 80%"
   ]
  },
  {
   "cell_type": "code",
   "execution_count": null,
   "id": "93f82c07",
   "metadata": {},
   "outputs": [],
   "source": [
    "group_df = evaluate_ranking_metrics(true_df=true_df, false_df=false_df, model_name=model_name, threshold=0.8)\n",
    "result_df = summarize_metrics(group_df)"
   ]
  },
  {
   "cell_type": "markdown",
   "id": "a769b022",
   "metadata": {},
   "source": [
    "###### Evaluation Result"
   ]
  },
  {
   "cell_type": "code",
   "execution_count": null,
   "id": "7ba99504",
   "metadata": {},
   "outputs": [
    {
     "name": "stdout",
     "output_type": "stream",
     "text": [
      "   macro_precision  macro_recall  macro_f1  micro_precision  micro_recall  \\\n",
      "0         0.887308      0.706515   0.76616         0.999745      0.747432   \n",
      "\n",
      "   micro_f1  mean_map  mean_mrr  mean_top@1  mean_top@2  mean_top@3  \n",
      "0   0.85537  0.999108  0.999524    0.999047    0.914931    0.856177  \n"
     ]
    }
   ],
   "source": [
    "print(result_df.head())"
   ]
  },
  {
   "cell_type": "markdown",
   "id": "0c53bd07",
   "metadata": {},
   "source": [
    "### GPT_Seperate Explanation Similarity based Cross-Language Clone Detection"
   ]
  },
  {
   "cell_type": "code",
   "execution_count": null,
   "id": "090cf5a1",
   "metadata": {},
   "outputs": [],
   "source": [
    "true_df = pd.read_csv(true_filename, delimiter = ',')\n",
    "false_df = pd.read_csv(false_filename, delimiter = ',')\n",
    "model_name = \"gpt_seperate_explanation_similarity\""
   ]
  },
  {
   "cell_type": "markdown",
   "id": "7e0bdc74",
   "metadata": {},
   "source": [
    "##### Threshold 50%"
   ]
  },
  {
   "cell_type": "code",
   "execution_count": null,
   "id": "0a419975",
   "metadata": {},
   "outputs": [],
   "source": [
    "group_df = evaluate_ranking_metrics(true_df=true_df, false_df=false_df, model_name=model_name, threshold=0.5)\n",
    "result_df = summarize_metrics(group_df)"
   ]
  },
  {
   "cell_type": "markdown",
   "id": "bc68c507",
   "metadata": {},
   "source": [
    "###### Evaluation Result"
   ]
  },
  {
   "cell_type": "code",
   "execution_count": null,
   "id": "899fc5ee",
   "metadata": {},
   "outputs": [
    {
     "name": "stdout",
     "output_type": "stream",
     "text": [
      "   macro_precision  macro_recall  macro_f1  micro_precision  micro_recall  \\\n",
      "0          0.76187      0.840523  0.783011         0.816099      0.928808   \n",
      "\n",
      "   micro_f1  mean_map  mean_mrr  mean_top@1  mean_top@2  mean_top@3  \n",
      "0  0.868813  0.908475  0.936082    0.881857    0.824146    0.779411  \n"
     ]
    }
   ],
   "source": [
    "print(result_df.head())"
   ]
  },
  {
   "cell_type": "markdown",
   "id": "625ad726",
   "metadata": {},
   "source": [
    "##### Threshold 65%"
   ]
  },
  {
   "cell_type": "code",
   "execution_count": null,
   "id": "bf26ae1f",
   "metadata": {},
   "outputs": [],
   "source": [
    "group_df = evaluate_ranking_metrics(true_df=true_df, false_df=false_df, model_name=model_name, threshold=0.65)\n",
    "result_df = summarize_metrics(group_df)"
   ]
  },
  {
   "cell_type": "markdown",
   "id": "307bb96c",
   "metadata": {},
   "source": [
    "###### Evaluation Result"
   ]
  },
  {
   "cell_type": "code",
   "execution_count": null,
   "id": "8c19d2ca",
   "metadata": {},
   "outputs": [
    {
     "name": "stdout",
     "output_type": "stream",
     "text": [
      "   macro_precision  macro_recall  macro_f1  micro_precision  micro_recall  \\\n",
      "0         0.708298      0.620385  0.639536         0.866147      0.772048   \n",
      "\n",
      "   micro_f1  mean_map  mean_mrr  mean_top@1  mean_top@2  mean_top@3  \n",
      "0  0.816395  0.908475  0.936082    0.881857    0.824146    0.779411  \n"
     ]
    }
   ],
   "source": [
    "print(result_df.head())"
   ]
  },
  {
   "cell_type": "markdown",
   "id": "9deb77da",
   "metadata": {},
   "source": [
    "##### Threshold 50%"
   ]
  },
  {
   "cell_type": "code",
   "execution_count": null,
   "id": "768cde8f",
   "metadata": {},
   "outputs": [],
   "source": [
    "group_df = evaluate_ranking_metrics(true_df=true_df, false_df=false_df, model_name=model_name, threshold=0.8)\n",
    "result_df = summarize_metrics(group_df)"
   ]
  },
  {
   "cell_type": "markdown",
   "id": "0404c446",
   "metadata": {},
   "source": [
    "###### Evaluation Result"
   ]
  },
  {
   "cell_type": "code",
   "execution_count": null,
   "id": "2c087166",
   "metadata": {},
   "outputs": [
    {
     "name": "stdout",
     "output_type": "stream",
     "text": [
      "   macro_precision  macro_recall  macro_f1  micro_precision  micro_recall  \\\n",
      "0         0.597645      0.373795  0.431672           0.9046      0.549455   \n",
      "\n",
      "   micro_f1  mean_map  mean_mrr  mean_top@1  mean_top@2  mean_top@3  \n",
      "0  0.683656  0.908475  0.936082    0.881857    0.824146    0.779411  \n"
     ]
    }
   ],
   "source": [
    "print(result_df.head())"
   ]
  }
 ],
 "metadata": {
  "kernelspec": {
   "display_name": "myenv",
   "language": "python",
   "name": "python3"
  },
  "language_info": {
   "codemirror_mode": {
    "name": "ipython",
    "version": 3
   },
   "file_extension": ".py",
   "mimetype": "text/x-python",
   "name": "python",
   "nbconvert_exporter": "python",
   "pygments_lexer": "ipython3",
   "version": "3.10.15"
  }
 },
 "nbformat": 4,
 "nbformat_minor": 5
}
