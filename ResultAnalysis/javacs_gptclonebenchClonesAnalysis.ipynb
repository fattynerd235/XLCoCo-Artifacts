{
 "cells": [
  {
   "cell_type": "markdown",
   "id": "23c99a14",
   "metadata": {},
   "source": [
    "### CSharp --> Python Clone Detection and Code Search Analysis"
   ]
  },
  {
   "cell_type": "code",
   "execution_count": 1,
   "id": "1a391e8d",
   "metadata": {},
   "outputs": [],
   "source": [
    "import pandas as pd\n",
    "import numpy as np"
   ]
  },
  {
   "cell_type": "markdown",
   "id": "a77d3903",
   "metadata": {},
   "source": [
    "##### Data Configure"
   ]
  },
  {
   "cell_type": "code",
   "execution_count": 2,
   "id": "2e159424",
   "metadata": {},
   "outputs": [],
   "source": [
    "true_filename = \"javacs_gptclonebench.csv\"\n",
    "false_filename = \"javacs_gptclonebenchNonClone.csv\""
   ]
  },
  {
   "cell_type": "markdown",
   "id": "754c8d51",
   "metadata": {},
   "source": [
    "##### Precision Analysis"
   ]
  },
  {
   "cell_type": "code",
   "execution_count": 3,
   "id": "14589a63",
   "metadata": {},
   "outputs": [],
   "source": [
    "def compute_precision(retrieved):\n",
    "    if len(retrieved) == 0:\n",
    "        return 0.0\n",
    "    return retrieved['label'].sum() / len(retrieved)"
   ]
  },
  {
   "cell_type": "markdown",
   "id": "2bf2bd07",
   "metadata": {},
   "source": [
    "##### Recall Analysis"
   ]
  },
  {
   "cell_type": "code",
   "execution_count": 4,
   "id": "57e25710",
   "metadata": {},
   "outputs": [],
   "source": [
    "def compute_recall(group, threshold):\n",
    "    total_positives = group[\"label\"].sum()\n",
    "    if total_positives == 0:\n",
    "        return 0.0\n",
    "    true_positives = group[group[\"similarity\"] >= threshold][\"label\"].sum()\n",
    "    return true_positives / total_positives"
   ]
  },
  {
   "cell_type": "markdown",
   "id": "adb66652",
   "metadata": {},
   "source": [
    "##### F-1 Score Analysis"
   ]
  },
  {
   "cell_type": "code",
   "execution_count": 5,
   "id": "e929454d",
   "metadata": {},
   "outputs": [],
   "source": [
    "def compute_f1(precision, recall):\n",
    "    if precision + recall == 0:\n",
    "        return 0.0\n",
    "    return 2 * precision * recall / (precision + recall)"
   ]
  },
  {
   "cell_type": "markdown",
   "id": "2a3d3193",
   "metadata": {},
   "source": [
    "#### MAP (Mean Average Precision)"
   ]
  },
  {
   "cell_type": "code",
   "execution_count": 6,
   "id": "c8a176db",
   "metadata": {},
   "outputs": [],
   "source": [
    "def compute_map(group):\n",
    "    ap_sum = 0.0\n",
    "    correct = 0\n",
    "    total_positives = group[\"label\"].sum()\n",
    "    if total_positives == 0:\n",
    "        return 0.0\n",
    "\n",
    "    for idx, row in group.iterrows():\n",
    "        if row[\"label\"] == 1:\n",
    "            correct += 1\n",
    "            ap_sum += correct / (idx + 1)\n",
    "    return ap_sum / total_positives"
   ]
  },
  {
   "cell_type": "markdown",
   "id": "19d3691d",
   "metadata": {},
   "source": [
    "##### MRR (Mean Reciprocal Ranking)"
   ]
  },
  {
   "cell_type": "code",
   "execution_count": 7,
   "id": "bdd5cae6",
   "metadata": {},
   "outputs": [],
   "source": [
    "def compute_mrr(group):\n",
    "    for idx, row in group.iterrows():\n",
    "        if row[\"label\"] == 1:\n",
    "            return 1 / (idx + 1)\n",
    "    return 0.0"
   ]
  },
  {
   "cell_type": "markdown",
   "id": "810851fa",
   "metadata": {},
   "source": [
    "##### Top@K Precision"
   ]
  },
  {
   "cell_type": "code",
   "execution_count": 8,
   "id": "11b8a32a",
   "metadata": {},
   "outputs": [],
   "source": [
    "def compute_top_k_precision(group, k):\n",
    "    top_k = group.head(k)\n",
    "    return top_k['label'].sum() / k if len(top_k) >= k else np.nan"
   ]
  },
  {
   "cell_type": "markdown",
   "id": "5ebbe932",
   "metadata": {},
   "source": [
    "##### Evaluating Ranking Metrics"
   ]
  },
  {
   "cell_type": "code",
   "execution_count": null,
   "id": "d33bcfd4",
   "metadata": {},
   "outputs": [],
   "source": [
    "def evaluate_ranking_metrics(true_df, false_df, model_name=\"final_similarity\", threshold=0.5):\n",
    "    true_df = true_df.copy()\n",
    "    true_df[\"label\"] = 1\n",
    "    true_df[\"origin\"] = \"true\"\n",
    "\n",
    "    false_df = false_df.copy()\n",
    "    false_df[\"label\"] = 0\n",
    "    false_df[\"origin\"] = \"false\"\n",
    "\n",
    "    # Combine both DataFrames\n",
    "    df = pd.concat([true_df, false_df], ignore_index=True)\n",
    "\n",
    "    # Normalize column names and rename target column\n",
    "    df.columns = [col.lower() for col in df.columns]\n",
    "    df = df.rename(columns={\"filename\": \"src_file\", model_name: \"similarity\"})\n",
    "\n",
    "    # Keep only src_files that have at least one true (label == 1) sample\n",
    "    true_src_files = df[df[\"origin\"] == \"true\"][\"src_file\"].unique()\n",
    "    df = df[df[\"src_file\"].isin(true_src_files)].copy()\n",
    "\n",
    "    results = []\n",
    "\n",
    "    for src_file, group in df.groupby(\"src_file\"):\n",
    "        group = group.sort_values(by=\"similarity\", ascending=False).reset_index(drop=True)\n",
    "        retrieved = group[group[\"similarity\"] >= threshold]\n",
    "\n",
    "        precision = compute_precision(retrieved)\n",
    "        recall = compute_recall(group, threshold)\n",
    "        f1 = compute_f1(precision, recall)\n",
    "        map_score = compute_map(group)\n",
    "        mrr = compute_mrr(group)\n",
    "\n",
    "        # Top@K Precision\n",
    "        top1 = compute_top_k_precision(group, 1)\n",
    "        top2 = compute_top_k_precision(group, 2)\n",
    "        top3 = compute_top_k_precision(group, 3)\n",
    "\n",
    "        results.append({\n",
    "            \"src_file\": src_file,\n",
    "            \"total\": len(group),\n",
    "            \"positives\": group['label'].sum(),\n",
    "            \"retrieved\": len(retrieved),\n",
    "            \"true_positives\": retrieved['label'].sum(),\n",
    "            \"precision\": precision,\n",
    "            \"recall\": recall,\n",
    "            \"f1_score\": f1,\n",
    "            \"map\": map_score,\n",
    "            \"mrr\": mrr,\n",
    "            \"top@1\": top1,\n",
    "            \"top@2\": top2,\n",
    "            \"top@3\": top3\n",
    "        })\n",
    "\n",
    "    return pd.DataFrame(results)\n"
   ]
  },
  {
   "cell_type": "markdown",
   "id": "d357a9e9",
   "metadata": {},
   "source": [
    "##### Summarizing the Group analysis result"
   ]
  },
  {
   "cell_type": "code",
   "execution_count": 10,
   "id": "1a848fd5",
   "metadata": {},
   "outputs": [],
   "source": [
    "def summarize_metrics(per_group_df):\n",
    "    macro_precision = per_group_df[\"precision\"].mean()\n",
    "    macro_recall = per_group_df[\"recall\"].mean()\n",
    "    macro_f1 = per_group_df[\"f1_score\"].mean()\n",
    "\n",
    "    # Micro: based on sum of TP, FP, FN\n",
    "    total_tp = per_group_df[\"true_positives\"].sum()\n",
    "    total_retrieved = per_group_df[\"retrieved\"].sum()\n",
    "    total_positives = per_group_df[\"positives\"].sum()\n",
    "\n",
    "    micro_precision = total_tp / total_retrieved if total_retrieved else 0\n",
    "    micro_recall = total_tp / total_positives if total_positives else 0\n",
    "    micro_f1 = (\n",
    "        2 * micro_precision * micro_recall / (micro_precision + micro_recall)\n",
    "        if (micro_precision + micro_recall) > 0\n",
    "        else 0\n",
    "    )\n",
    "\n",
    "    summary = {\n",
    "        \"macro_precision\": macro_precision,\n",
    "        \"macro_recall\": macro_recall,\n",
    "        \"macro_f1\": macro_f1,\n",
    "        \"micro_precision\": micro_precision,\n",
    "        \"micro_recall\": micro_recall,\n",
    "        \"micro_f1\": micro_f1,\n",
    "        \"mean_map\": per_group_df[\"map\"].mean(),\n",
    "        \"mean_mrr\": per_group_df[\"mrr\"].mean(),\n",
    "        \"mean_top@1\": per_group_df[\"top@1\"].mean(),\n",
    "        \"mean_top@2\": per_group_df[\"top@2\"].mean(),\n",
    "        \"mean_top@3\": per_group_df[\"top@3\"].mean(),\n",
    "    }\n",
    "\n",
    "    return pd.DataFrame([summary])\n"
   ]
  },
  {
   "cell_type": "markdown",
   "id": "2d86acd5",
   "metadata": {},
   "source": [
    "### GPT Intent Similarity based Clone detection and Code search ranking"
   ]
  },
  {
   "cell_type": "code",
   "execution_count": 11,
   "id": "8e16711a",
   "metadata": {},
   "outputs": [],
   "source": [
    "true_df = pd.read_csv(true_filename, delimiter = ',')\n",
    "false_df = pd.read_csv(false_filename, delimiter = ',')\n",
    "model_name = \"gpt_intent_similarity\""
   ]
  },
  {
   "cell_type": "markdown",
   "id": "77bec90b",
   "metadata": {},
   "source": [
    "##### Threshold 50%"
   ]
  },
  {
   "cell_type": "code",
   "execution_count": 12,
   "id": "25ad75eb",
   "metadata": {},
   "outputs": [
    {
     "name": "stderr",
     "output_type": "stream",
     "text": [
      "C:\\Users\\kawser\\AppData\\Local\\Temp\\ipykernel_22972\\3306807352.py:13: FutureWarning: Series.__getitem__ treating keys as positions is deprecated. In a future version, integer keys will always be treated as labels (consistent with DataFrame behavior). To access a value by position, use `ser.iloc[pos]`\n",
      "  valid_src_files = group_sizes[group_sizes].index\n"
     ]
    }
   ],
   "source": [
    "group_df, df = evaluate_ranking_metrics(true_df=true_df, false_df=false_df, model_name=model_name, threshold=0.5)\n",
    "result_df = summarize_metrics(group_df)"
   ]
  },
  {
   "cell_type": "markdown",
   "id": "160e1495",
   "metadata": {},
   "source": [
    "###### Precision"
   ]
  },
  {
   "cell_type": "code",
   "execution_count": 13,
   "id": "a2445594",
   "metadata": {},
   "outputs": [
    {
     "name": "stdout",
     "output_type": "stream",
     "text": [
      "Macro Precision 0    1.0\n",
      "Name: macro_precision, dtype: float64\n",
      "Micro Precision 0    1.0\n",
      "Name: micro_precision, dtype: float64\n"
     ]
    }
   ],
   "source": [
    "print(\"Macro Precision\", result_df[\"macro_precision\"])\n",
    "print(\"Micro Precision\", result_df[\"micro_precision\"])"
   ]
  },
  {
   "cell_type": "markdown",
   "id": "83264513",
   "metadata": {},
   "source": [
    "###### Recall"
   ]
  },
  {
   "cell_type": "code",
   "execution_count": 14,
   "id": "5fb9d9c3",
   "metadata": {},
   "outputs": [
    {
     "name": "stdout",
     "output_type": "stream",
     "text": [
      "Macro Recall 0    1.0\n",
      "Name: macro_recall, dtype: float64\n",
      "Micro Recall 0    1.0\n",
      "Name: micro_recall, dtype: float64\n"
     ]
    }
   ],
   "source": [
    "print(\"Macro Recall\", result_df[\"macro_recall\"])\n",
    "print(\"Micro Recall\", result_df[\"micro_recall\"])"
   ]
  },
  {
   "cell_type": "markdown",
   "id": "297836d5",
   "metadata": {},
   "source": [
    "###### F1-Score"
   ]
  },
  {
   "cell_type": "code",
   "execution_count": 15,
   "id": "7965e846",
   "metadata": {},
   "outputs": [
    {
     "name": "stdout",
     "output_type": "stream",
     "text": [
      "Macro F1:  0    1.0\n",
      "Name: macro_f1, dtype: float64\n",
      "Micro F1:  0    1.0\n",
      "Name: micro_f1, dtype: float64\n"
     ]
    }
   ],
   "source": [
    "print(\"Macro F1: \", result_df[\"macro_f1\"])\n",
    "print(\"Micro F1: \", result_df[\"micro_f1\"])"
   ]
  },
  {
   "cell_type": "markdown",
   "id": "7984cd85",
   "metadata": {},
   "source": [
    "###### Mean Average Precision"
   ]
  },
  {
   "cell_type": "code",
   "execution_count": 16,
   "id": "1e6adda9",
   "metadata": {},
   "outputs": [
    {
     "name": "stdout",
     "output_type": "stream",
     "text": [
      "Mean Average Precision:  0    1.0\n",
      "Name: mean_map, dtype: float64\n"
     ]
    }
   ],
   "source": [
    "print(\"Mean Average Precision: \", result_df[\"mean_map\"])"
   ]
  },
  {
   "cell_type": "markdown",
   "id": "16a6d8c3",
   "metadata": {},
   "source": [
    "###### Mean Reciprocal Ranking"
   ]
  },
  {
   "cell_type": "code",
   "execution_count": 17,
   "id": "73816acd",
   "metadata": {},
   "outputs": [
    {
     "name": "stdout",
     "output_type": "stream",
     "text": [
      "Mean MRR:  0    1.0\n",
      "Name: mean_mrr, dtype: float64\n"
     ]
    }
   ],
   "source": [
    "print(\"Mean MRR: \", result_df[\"mean_mrr\"])"
   ]
  },
  {
   "cell_type": "markdown",
   "id": "6cdf874e",
   "metadata": {},
   "source": [
    "###### top@K ranking"
   ]
  },
  {
   "cell_type": "code",
   "execution_count": 18,
   "id": "ca1f0e3e",
   "metadata": {},
   "outputs": [
    {
     "name": "stdout",
     "output_type": "stream",
     "text": [
      "top 1:  0    1.0\n",
      "Name: mean_top@1, dtype: float64\n",
      "top 2:  0   NaN\n",
      "Name: mean_top@2, dtype: float64\n",
      "top 3:  0   NaN\n",
      "Name: mean_top@3, dtype: float64\n"
     ]
    }
   ],
   "source": [
    "print(\"top 1: \", result_df[\"mean_top@1\"])\n",
    "print(\"top 2: \", result_df[\"mean_top@2\"])\n",
    "print(\"top 3: \", result_df[\"mean_top@3\"])"
   ]
  },
  {
   "cell_type": "markdown",
   "id": "e9e694e4",
   "metadata": {},
   "source": [
    "###### Result Evaluation"
   ]
  },
  {
   "cell_type": "code",
   "execution_count": 19,
   "id": "14ae45ad",
   "metadata": {},
   "outputs": [
    {
     "name": "stdout",
     "output_type": "stream",
     "text": [
      "   macro_precision  macro_recall  macro_f1  micro_precision  micro_recall  \\\n",
      "0              1.0           1.0       1.0              1.0           1.0   \n",
      "\n",
      "   micro_f1  mean_map  mean_mrr  mean_top@1  mean_top@2  mean_top@3  \n",
      "0       1.0       1.0       1.0         1.0         NaN         NaN  \n"
     ]
    }
   ],
   "source": [
    "print(result_df.head())"
   ]
  },
  {
   "cell_type": "markdown",
   "id": "51d20f32",
   "metadata": {},
   "source": [
    "###### reason of low mean_top@3"
   ]
  },
  {
   "cell_type": "code",
   "execution_count": 20,
   "id": "97336a4b",
   "metadata": {},
   "outputs": [],
   "source": [
    "#def log_low_top3_cases(metrics_df, threshold=1.0):\n",
    "#    low_top3 = metrics_df[metrics_df[\"top@3\"] < threshold].copy()\n",
    "#    return low_top3.sort_values(by=\"top@3\")\n",
    "\n",
    "#low_top3_df = log_low_top3_cases(group_df, threshold=0.99)\n",
    "#low_top3_df.to_csv(\"sample.csv\")\n"
   ]
  },
  {
   "cell_type": "markdown",
   "id": "c9446c13",
   "metadata": {},
   "source": [
    "#### Threshold 65%"
   ]
  },
  {
   "cell_type": "code",
   "execution_count": 21,
   "id": "725832e0",
   "metadata": {},
   "outputs": [
    {
     "name": "stderr",
     "output_type": "stream",
     "text": [
      "C:\\Users\\kawser\\AppData\\Local\\Temp\\ipykernel_22972\\3306807352.py:13: FutureWarning: Series.__getitem__ treating keys as positions is deprecated. In a future version, integer keys will always be treated as labels (consistent with DataFrame behavior). To access a value by position, use `ser.iloc[pos]`\n",
      "  valid_src_files = group_sizes[group_sizes].index\n"
     ]
    },
    {
     "ename": "TypeError",
     "evalue": "tuple indices must be integers or slices, not str",
     "output_type": "error",
     "traceback": [
      "\u001b[1;31m---------------------------------------------------------------------------\u001b[0m",
      "\u001b[1;31mTypeError\u001b[0m                                 Traceback (most recent call last)",
      "Cell \u001b[1;32mIn[21], line 2\u001b[0m\n\u001b[0;32m      1\u001b[0m group_df \u001b[38;5;241m=\u001b[39m evaluate_ranking_metrics(true_df\u001b[38;5;241m=\u001b[39mtrue_df, false_df\u001b[38;5;241m=\u001b[39mfalse_df, model_name\u001b[38;5;241m=\u001b[39mmodel_name, threshold\u001b[38;5;241m=\u001b[39m\u001b[38;5;241m0.65\u001b[39m)\n\u001b[1;32m----> 2\u001b[0m result_df \u001b[38;5;241m=\u001b[39m \u001b[43msummarize_metrics\u001b[49m\u001b[43m(\u001b[49m\u001b[43mgroup_df\u001b[49m\u001b[43m)\u001b[49m\n",
      "Cell \u001b[1;32mIn[10], line 2\u001b[0m, in \u001b[0;36msummarize_metrics\u001b[1;34m(per_group_df)\u001b[0m\n\u001b[0;32m      1\u001b[0m \u001b[38;5;28;01mdef\u001b[39;00m \u001b[38;5;21msummarize_metrics\u001b[39m(per_group_df):\n\u001b[1;32m----> 2\u001b[0m     macro_precision \u001b[38;5;241m=\u001b[39m \u001b[43mper_group_df\u001b[49m\u001b[43m[\u001b[49m\u001b[38;5;124;43m\"\u001b[39;49m\u001b[38;5;124;43mprecision\u001b[39;49m\u001b[38;5;124;43m\"\u001b[39;49m\u001b[43m]\u001b[49m\u001b[38;5;241m.\u001b[39mmean()\n\u001b[0;32m      3\u001b[0m     macro_recall \u001b[38;5;241m=\u001b[39m per_group_df[\u001b[38;5;124m\"\u001b[39m\u001b[38;5;124mrecall\u001b[39m\u001b[38;5;124m\"\u001b[39m]\u001b[38;5;241m.\u001b[39mmean()\n\u001b[0;32m      4\u001b[0m     macro_f1 \u001b[38;5;241m=\u001b[39m per_group_df[\u001b[38;5;124m\"\u001b[39m\u001b[38;5;124mf1_score\u001b[39m\u001b[38;5;124m\"\u001b[39m]\u001b[38;5;241m.\u001b[39mmean()\n",
      "\u001b[1;31mTypeError\u001b[0m: tuple indices must be integers or slices, not str"
     ]
    }
   ],
   "source": [
    "group_df = evaluate_ranking_metrics(true_df=true_df, false_df=false_df, model_name=model_name, threshold=0.65)\n",
    "result_df = summarize_metrics(group_df)"
   ]
  },
  {
   "cell_type": "markdown",
   "id": "0e634633",
   "metadata": {},
   "source": [
    "###### Result evaluation"
   ]
  },
  {
   "cell_type": "code",
   "execution_count": null,
   "id": "261f8897",
   "metadata": {},
   "outputs": [
    {
     "name": "stdout",
     "output_type": "stream",
     "text": [
      "   macro_precision  macro_recall  macro_f1  micro_precision  micro_recall  \\\n",
      "0         0.982694      0.940789  0.955999         0.999932      0.946635   \n",
      "\n",
      "   micro_f1  mean_map  mean_mrr  mean_top@1  mean_top@2  mean_top@3  \n",
      "0  0.972554  0.998123  0.998756    0.998326    0.928148    0.877329  \n"
     ]
    }
   ],
   "source": [
    "print(result_df.head())"
   ]
  },
  {
   "cell_type": "markdown",
   "id": "77388453",
   "metadata": {},
   "source": [
    "### Threshold 80%"
   ]
  },
  {
   "cell_type": "code",
   "execution_count": null,
   "id": "7983ffae",
   "metadata": {},
   "outputs": [],
   "source": [
    "group_df = evaluate_ranking_metrics(true_df=true_df, false_df=false_df, model_name=model_name, threshold=0.80)\n",
    "result_df = summarize_metrics(group_df)"
   ]
  },
  {
   "cell_type": "markdown",
   "id": "94d5c7c1",
   "metadata": {},
   "source": [
    "###### Result Evaluation"
   ]
  },
  {
   "cell_type": "code",
   "execution_count": null,
   "id": "352443e7",
   "metadata": {},
   "outputs": [
    {
     "name": "stdout",
     "output_type": "stream",
     "text": [
      "   macro_precision  macro_recall  macro_f1  micro_precision  micro_recall  \\\n",
      "0         0.967125      0.893536  0.919266         0.999958      0.907289   \n",
      "\n",
      "   micro_f1  mean_map  mean_mrr  mean_top@1  mean_top@2  mean_top@3  \n",
      "0  0.951372  0.998123  0.998756    0.998326    0.928148    0.877329  \n"
     ]
    }
   ],
   "source": [
    "print(result_df.head())"
   ]
  },
  {
   "cell_type": "markdown",
   "id": "ba22d1a5",
   "metadata": {},
   "source": [
    "### GPT Semantic Similarity based Clone detection and Code search ranking"
   ]
  },
  {
   "cell_type": "code",
   "execution_count": null,
   "id": "37b586c5",
   "metadata": {},
   "outputs": [],
   "source": [
    "true_df = pd.read_csv(true_filename, delimiter = ',')\n",
    "false_df = pd.read_csv(false_filename, delimiter = ',')\n",
    "model_name = \"gpt_semantic_similarity\""
   ]
  },
  {
   "cell_type": "markdown",
   "id": "e38cc7a4",
   "metadata": {},
   "source": [
    "##### Threshold 50%"
   ]
  },
  {
   "cell_type": "code",
   "execution_count": null,
   "id": "555fdd2f",
   "metadata": {},
   "outputs": [],
   "source": [
    "group_df = evaluate_ranking_metrics(true_df=true_df, false_df=false_df, model_name=model_name, threshold=0.5)\n",
    "result_df = summarize_metrics(group_df)"
   ]
  },
  {
   "cell_type": "markdown",
   "id": "69c11284",
   "metadata": {},
   "source": [
    "###### Evalation Result"
   ]
  },
  {
   "cell_type": "code",
   "execution_count": null,
   "id": "6702157b",
   "metadata": {},
   "outputs": [
    {
     "name": "stdout",
     "output_type": "stream",
     "text": [
      "   macro_precision  macro_recall  macro_f1  micro_precision  micro_recall  \\\n",
      "0         0.987785      0.961882   0.97017          0.99988       0.96068   \n",
      "\n",
      "   micro_f1  mean_map  mean_mrr  mean_top@1  mean_top@2  mean_top@3  \n",
      "0  0.979888  0.999163  0.999525    0.999356    0.928792    0.877844  \n"
     ]
    }
   ],
   "source": [
    "print(result_df.head())"
   ]
  },
  {
   "cell_type": "markdown",
   "id": "3956af40",
   "metadata": {},
   "source": [
    "##### Threshold 65%"
   ]
  },
  {
   "cell_type": "code",
   "execution_count": null,
   "id": "f39325c0",
   "metadata": {},
   "outputs": [],
   "source": [
    "group_df = evaluate_ranking_metrics(true_df=true_df, false_df=false_df, model_name=model_name, threshold=0.65)\n",
    "result_df = summarize_metrics(group_df)"
   ]
  },
  {
   "cell_type": "markdown",
   "id": "6f44a3f2",
   "metadata": {},
   "source": [
    "###### Evaluation Result"
   ]
  },
  {
   "cell_type": "code",
   "execution_count": null,
   "id": "8f226a91",
   "metadata": {},
   "outputs": [
    {
     "name": "stdout",
     "output_type": "stream",
     "text": [
      "   macro_precision  macro_recall  macro_f1  micro_precision  micro_recall  \\\n",
      "0         0.968488      0.909486   0.92889         0.999916      0.910247   \n",
      "\n",
      "   micro_f1  mean_map  mean_mrr  mean_top@1  mean_top@2  mean_top@3  \n",
      "0  0.952977  0.999163  0.999525    0.999356    0.928792    0.877844  \n"
     ]
    }
   ],
   "source": [
    "print(result_df.head())"
   ]
  },
  {
   "cell_type": "markdown",
   "id": "21013873",
   "metadata": {},
   "source": [
    "##### Threshold 80%"
   ]
  },
  {
   "cell_type": "code",
   "execution_count": null,
   "id": "93f82c07",
   "metadata": {},
   "outputs": [],
   "source": [
    "group_df = evaluate_ranking_metrics(true_df=true_df, false_df=false_df, model_name=model_name, threshold=0.8)\n",
    "result_df = summarize_metrics(group_df)"
   ]
  },
  {
   "cell_type": "markdown",
   "id": "a769b022",
   "metadata": {},
   "source": [
    "###### Evaluation Result"
   ]
  },
  {
   "cell_type": "code",
   "execution_count": null,
   "id": "7ba99504",
   "metadata": {},
   "outputs": [
    {
     "name": "stdout",
     "output_type": "stream",
     "text": [
      "   macro_precision  macro_recall  macro_f1  micro_precision  micro_recall  \\\n",
      "0         0.923599      0.795777  0.835344         0.999953       0.81815   \n",
      "\n",
      "   micro_f1  mean_map  mean_mrr  mean_top@1  mean_top@2  mean_top@3  \n",
      "0  0.899962  0.999163  0.999525    0.999356    0.928792    0.877844  \n"
     ]
    }
   ],
   "source": [
    "print(result_df.head())"
   ]
  },
  {
   "cell_type": "markdown",
   "id": "0c53bd07",
   "metadata": {},
   "source": [
    "### Attention-VAE model Similarity based Clone detection and Code search ranking"
   ]
  },
  {
   "cell_type": "code",
   "execution_count": null,
   "id": "090cf5a1",
   "metadata": {},
   "outputs": [],
   "source": [
    "true_df = pd.read_csv(true_filename, delimiter = ',')\n",
    "false_df = pd.read_csv(false_filename, delimiter = ',')\n",
    "model_name = \"attn_vae_similarity\""
   ]
  },
  {
   "cell_type": "markdown",
   "id": "7e0bdc74",
   "metadata": {},
   "source": [
    "##### Threshold 50%"
   ]
  },
  {
   "cell_type": "code",
   "execution_count": null,
   "id": "0a419975",
   "metadata": {},
   "outputs": [],
   "source": [
    "group_df = evaluate_ranking_metrics(true_df=true_df, false_df=false_df, model_name=model_name, threshold=0.5)\n",
    "result_df = summarize_metrics(group_df)"
   ]
  },
  {
   "cell_type": "markdown",
   "id": "bc68c507",
   "metadata": {},
   "source": [
    "###### Evaluation Result"
   ]
  },
  {
   "cell_type": "code",
   "execution_count": null,
   "id": "899fc5ee",
   "metadata": {},
   "outputs": [
    {
     "name": "stdout",
     "output_type": "stream",
     "text": [
      "   macro_precision  macro_recall  macro_f1  micro_precision  micro_recall  \\\n",
      "0         0.765526      0.899495  0.808766         0.823429      0.943639   \n",
      "\n",
      "   micro_f1  mean_map  mean_mrr  mean_top@1  mean_top@2  mean_top@3  \n",
      "0  0.879445  0.882714  0.881976    0.789338    0.775818    0.757232  \n"
     ]
    }
   ],
   "source": [
    "print(result_df.head())"
   ]
  },
  {
   "cell_type": "markdown",
   "id": "625ad726",
   "metadata": {},
   "source": [
    "##### Threshold 65%"
   ]
  },
  {
   "cell_type": "code",
   "execution_count": null,
   "id": "bf26ae1f",
   "metadata": {},
   "outputs": [],
   "source": [
    "group_df = evaluate_ranking_metrics(true_df=true_df, false_df=false_df, model_name=model_name, threshold=0.65)\n",
    "result_df = summarize_metrics(group_df)"
   ]
  },
  {
   "cell_type": "markdown",
   "id": "307bb96c",
   "metadata": {},
   "source": [
    "###### Evaluation Result"
   ]
  },
  {
   "cell_type": "code",
   "execution_count": null,
   "id": "8c19d2ca",
   "metadata": {},
   "outputs": [
    {
     "name": "stdout",
     "output_type": "stream",
     "text": [
      "   macro_precision  macro_recall  macro_f1  micro_precision  micro_recall  \\\n",
      "0         0.747548      0.757583  0.727987         0.856011       0.83249   \n",
      "\n",
      "   micro_f1  mean_map  mean_mrr  mean_top@1  mean_top@2  mean_top@3  \n",
      "0  0.844087  0.882714  0.881976    0.789338    0.775818    0.757232  \n"
     ]
    }
   ],
   "source": [
    "print(result_df.head())"
   ]
  },
  {
   "cell_type": "markdown",
   "id": "9deb77da",
   "metadata": {},
   "source": [
    "##### Threshold 50%"
   ]
  },
  {
   "cell_type": "code",
   "execution_count": null,
   "id": "768cde8f",
   "metadata": {},
   "outputs": [],
   "source": [
    "group_df = evaluate_ranking_metrics(true_df=true_df, false_df=false_df, model_name=model_name, threshold=0.8)\n",
    "result_df = summarize_metrics(group_df)"
   ]
  },
  {
   "cell_type": "markdown",
   "id": "0404c446",
   "metadata": {},
   "source": [
    "###### Evaluation Result"
   ]
  },
  {
   "cell_type": "code",
   "execution_count": null,
   "id": "2c087166",
   "metadata": {},
   "outputs": [
    {
     "name": "stdout",
     "output_type": "stream",
     "text": [
      "   macro_precision  macro_recall  macro_f1  micro_precision  micro_recall  \\\n",
      "0         0.621922      0.448106  0.486387           0.8941      0.583089   \n",
      "\n",
      "   micro_f1  mean_map  mean_mrr  mean_top@1  mean_top@2  mean_top@3  \n",
      "0  0.705854  0.882714  0.881976    0.789338    0.775818    0.757232  \n"
     ]
    }
   ],
   "source": [
    "print(result_df.head())"
   ]
  },
  {
   "cell_type": "markdown",
   "id": "d94aed27",
   "metadata": {},
   "source": [
    "### XLCoCo : Clone Detection and Code Search Performance"
   ]
  },
  {
   "cell_type": "code",
   "execution_count": null,
   "id": "0d2e0e4f",
   "metadata": {},
   "outputs": [],
   "source": [
    "true_df = pd.read_csv(true_filename, delimiter = ',')\n",
    "false_df = pd.read_csv(false_filename, delimiter = ',')\n",
    "model_name = \"final_similarity\""
   ]
  },
  {
   "cell_type": "markdown",
   "id": "f3c7bc9e",
   "metadata": {},
   "source": [
    "##### Threshold 50%"
   ]
  },
  {
   "cell_type": "code",
   "execution_count": null,
   "id": "eb44a15f",
   "metadata": {},
   "outputs": [],
   "source": [
    "group_df = evaluate_ranking_metrics(true_df=true_df, false_df=false_df, model_name=model_name, threshold=0.5)\n",
    "result_df = summarize_metrics(group_df)"
   ]
  },
  {
   "cell_type": "markdown",
   "id": "fa1dfa6a",
   "metadata": {},
   "source": [
    "###### Evaluation Result"
   ]
  },
  {
   "cell_type": "code",
   "execution_count": null,
   "id": "ba1a8d99",
   "metadata": {},
   "outputs": [
    {
     "name": "stdout",
     "output_type": "stream",
     "text": [
      "   macro_precision  macro_recall  macro_f1  micro_precision  micro_recall  \\\n",
      "0         0.993548      0.996177  0.994399         0.995032      0.997516   \n",
      "\n",
      "   micro_f1  mean_map  mean_mrr  mean_top@1  mean_top@2  mean_top@3  \n",
      "0  0.996272   0.99942  0.999496    0.999099    0.928857    0.878015  \n"
     ]
    }
   ],
   "source": [
    "print(result_df.head())"
   ]
  },
  {
   "cell_type": "markdown",
   "id": "798fad7d",
   "metadata": {},
   "source": [
    "##### Threshold 65%"
   ]
  },
  {
   "cell_type": "code",
   "execution_count": null,
   "id": "60b243c2",
   "metadata": {},
   "outputs": [],
   "source": [
    "group_df = evaluate_ranking_metrics(true_df=true_df, false_df=false_df, model_name=model_name, threshold=0.65)\n",
    "result_df = summarize_metrics(group_df)"
   ]
  },
  {
   "cell_type": "markdown",
   "id": "56d0fe73",
   "metadata": {},
   "source": [
    "###### Evaluation Result"
   ]
  },
  {
   "cell_type": "code",
   "execution_count": null,
   "id": "67927b8d",
   "metadata": {},
   "outputs": [
    {
     "name": "stdout",
     "output_type": "stream",
     "text": [
      "   macro_precision  macro_recall  macro_f1  micro_precision  micro_recall  \\\n",
      "0         0.995578      0.993895  0.994271         0.998844      0.996018   \n",
      "\n",
      "   micro_f1  mean_map  mean_mrr  mean_top@1  mean_top@2  mean_top@3  \n",
      "0  0.997429   0.99942  0.999496    0.999099    0.928857    0.878015  \n"
     ]
    }
   ],
   "source": [
    "print(result_df.head())"
   ]
  },
  {
   "cell_type": "markdown",
   "id": "eeddbf1a",
   "metadata": {},
   "source": [
    "##### Threshold 80%"
   ]
  },
  {
   "cell_type": "code",
   "execution_count": null,
   "id": "dd9d3767",
   "metadata": {},
   "outputs": [],
   "source": [
    "group_df = evaluate_ranking_metrics(true_df=true_df, false_df=false_df, model_name=model_name, threshold=0.8)\n",
    "result_df = summarize_metrics(group_df)"
   ]
  },
  {
   "cell_type": "markdown",
   "id": "f430ea41",
   "metadata": {},
   "source": [
    "###### Evaluation Result"
   ]
  },
  {
   "cell_type": "code",
   "execution_count": null,
   "id": "816e0b7f",
   "metadata": {},
   "outputs": [
    {
     "name": "stdout",
     "output_type": "stream",
     "text": [
      "   macro_precision  macro_recall  macro_f1  micro_precision  micro_recall  \\\n",
      "0         0.995525      0.993353  0.993931         0.998882      0.995608   \n",
      "\n",
      "   micro_f1  mean_map  mean_mrr  mean_top@1  mean_top@2  mean_top@3  \n",
      "0  0.997243   0.99942  0.999496    0.999099    0.928857    0.878015  \n"
     ]
    }
   ],
   "source": [
    "print(result_df.head())"
   ]
  }
 ],
 "metadata": {
  "kernelspec": {
   "display_name": "myenv",
   "language": "python",
   "name": "python3"
  },
  "language_info": {
   "codemirror_mode": {
    "name": "ipython",
    "version": 3
   },
   "file_extension": ".py",
   "mimetype": "text/x-python",
   "name": "python",
   "nbconvert_exporter": "python",
   "pygments_lexer": "ipython3",
   "version": "3.10.15"
  }
 },
 "nbformat": 4,
 "nbformat_minor": 5
}
